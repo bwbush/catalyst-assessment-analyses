{
 "cells": [
  {
   "cell_type": "markdown",
   "metadata": {},
   "source": [
    "# Exploratory Analysis of Fund 5 CA Assessments"
   ]
  },
  {
   "cell_type": "markdown",
   "metadata": {},
   "source": [
    "## Load packages."
   ]
  },
  {
   "cell_type": "code",
   "execution_count": 1,
   "metadata": {},
   "outputs": [
    {
     "name": "stderr",
     "output_type": "stream",
     "text": [
      "Loading required package: data.table\n",
      "Loading required package: magrittr\n",
      "Loading required package: PerMallows\n",
      "Loading required package: Rcpp\n",
      "Loading required package: ggplot2\n"
     ]
    }
   ],
   "source": [
    "require(data.table)\n",
    "require(magrittr)\n",
    "require(PerMallows)\n",
    "\n",
    "require(ggplot2)"
   ]
  },
  {
   "cell_type": "code",
   "execution_count": 2,
   "metadata": {},
   "outputs": [],
   "source": [
    "options(repr.plot.height=4)"
   ]
  },
  {
   "cell_type": "markdown",
   "metadata": {},
   "source": [
    "## Read data."
   ]
  },
  {
   "cell_type": "markdown",
   "metadata": {},
   "source": [
    "### Read CA assessments."
   ]
  },
  {
   "cell_type": "code",
   "execution_count": 3,
   "metadata": {},
   "outputs": [
    {
     "data": {
      "text/plain": [
       " Unique Proposal ID     CA ID         Proposal ID      Question ID   \n",
       " Length:5416        Min.   :  1.00   Min.   :350599   Min.   :1.000  \n",
       " Class :character   1st Qu.: 22.00   1st Qu.:350984   1st Qu.:1.000  \n",
       " Mode  :character   Median : 46.00   Median :352002   Median :2.000  \n",
       "                    Mean   : 62.14   Mean   :351793   Mean   :2.348  \n",
       "                    3rd Qu.: 71.00   3rd Qu.:352549   3rd Qu.:3.000  \n",
       "                    Max.   :255.00   Max.   :352830   Max.   :6.000  \n",
       "     Score        Flagged       \n",
       " Min.   :1.000   Mode :logical  \n",
       " 1st Qu.:2.000   FALSE:4172     \n",
       " Median :4.000   TRUE :1244     \n",
       " Mean   :3.299                  \n",
       " 3rd Qu.:5.000                  \n",
       " Max.   :5.000                  "
      ]
     },
     "metadata": {},
     "output_type": "display_data"
    }
   ],
   "source": [
    "assessments <- fread(\"f5-assessments.tsv\")\n",
    "assessments %>% summary"
   ]
  },
  {
   "cell_type": "markdown",
   "metadata": {},
   "source": [
    "### Read which proposals belong to which challenges."
   ]
  },
  {
   "cell_type": "code",
   "execution_count": 4,
   "metadata": {},
   "outputs": [
    {
     "data": {
      "text/plain": [
       "  Challenge          Proposal ID     Short Title       \n",
       " Length:321         Min.   :350599   Length:321        \n",
       " Class :character   1st Qu.:351008   Class :character  \n",
       " Mode  :character   Median :352005   Mode  :character  \n",
       "                    Mean   :351820                     \n",
       "                    3rd Qu.:352562                     \n",
       "                    Max.   :355448                     "
      ]
     },
     "metadata": {},
     "output_type": "display_data"
    }
   ],
   "source": [
    "challenges <- fread(\"f5-challenges.tsv\")\n",
    "challenges %>% summary"
   ]
  },
  {
   "cell_type": "markdown",
   "metadata": {},
   "source": [
    "### Check to make sure that every proposal belongs to a challenge."
   ]
  },
  {
   "cell_type": "code",
   "execution_count": 5,
   "metadata": {},
   "outputs": [
    {
     "data": {
      "text/html": [],
      "text/latex": [],
      "text/markdown": [],
      "text/plain": [
       "integer(0)"
      ]
     },
     "metadata": {},
     "output_type": "display_data"
    }
   ],
   "source": [
    "setdiff(assessments$`Proposal ID`, challenges$`Proposal ID`)"
   ]
  },
  {
   "cell_type": "markdown",
   "metadata": {},
   "source": [
    "### Join the assessment data with the challenge data."
   ]
  },
  {
   "cell_type": "code",
   "execution_count": 6,
   "metadata": {},
   "outputs": [
    {
     "data": {
      "text/html": [
       "<table>\n",
       "<caption>A data.table: 10 x 8</caption>\n",
       "<thead>\n",
       "\t<tr><th scope=col>Proposal ID</th><th scope=col>Unique Proposal ID</th><th scope=col>CA ID</th><th scope=col>Question ID</th><th scope=col>Score</th><th scope=col>Flagged</th><th scope=col>Challenge</th><th scope=col>Short Title</th></tr>\n",
       "\t<tr><th scope=col>&lt;int&gt;</th><th scope=col>&lt;chr&gt;</th><th scope=col>&lt;int&gt;</th><th scope=col>&lt;int&gt;</th><th scope=col>&lt;int&gt;</th><th scope=col>&lt;lgl&gt;</th><th scope=col>&lt;chr&gt;</th><th scope=col>&lt;chr&gt;</th></tr>\n",
       "</thead>\n",
       "<tbody>\n",
       "\t<tr><td>350599</td><td>UM5UZBiNh</td><td> 1</td><td>1</td><td>5</td><td>TRUE</td><td>Developer Ecosystem</td><td>Step by Step Guide Off Chain Code</td></tr>\n",
       "\t<tr><td>350599</td><td>UM5UZBiNh</td><td> 2</td><td>1</td><td>3</td><td>TRUE</td><td>Developer Ecosystem</td><td>Step by Step Guide Off Chain Code</td></tr>\n",
       "\t<tr><td>350599</td><td>UM5UZBiNh</td><td> 9</td><td>1</td><td>5</td><td>TRUE</td><td>Developer Ecosystem</td><td>Step by Step Guide Off Chain Code</td></tr>\n",
       "\t<tr><td>350599</td><td>UM5UZBiNh</td><td>11</td><td>1</td><td>5</td><td>TRUE</td><td>Developer Ecosystem</td><td>Step by Step Guide Off Chain Code</td></tr>\n",
       "\t<tr><td>350599</td><td>UM5UZBiNh</td><td>13</td><td>1</td><td>4</td><td>TRUE</td><td>Developer Ecosystem</td><td>Step by Step Guide Off Chain Code</td></tr>\n",
       "\t<tr><td>350599</td><td>UM5UZBiNh</td><td>14</td><td>1</td><td>5</td><td>TRUE</td><td>Developer Ecosystem</td><td>Step by Step Guide Off Chain Code</td></tr>\n",
       "\t<tr><td>350599</td><td>UM5UZBiNh</td><td>15</td><td>1</td><td>5</td><td>TRUE</td><td>Developer Ecosystem</td><td>Step by Step Guide Off Chain Code</td></tr>\n",
       "\t<tr><td>350599</td><td>UM5UZBiNh</td><td>16</td><td>1</td><td>5</td><td>TRUE</td><td>Developer Ecosystem</td><td>Step by Step Guide Off Chain Code</td></tr>\n",
       "\t<tr><td>350599</td><td>UM5UZBiNh</td><td>18</td><td>1</td><td>4</td><td>TRUE</td><td>Developer Ecosystem</td><td>Step by Step Guide Off Chain Code</td></tr>\n",
       "\t<tr><td>350599</td><td>UM5UZBiNh</td><td>19</td><td>1</td><td>5</td><td>TRUE</td><td>Developer Ecosystem</td><td>Step by Step Guide Off Chain Code</td></tr>\n",
       "</tbody>\n",
       "</table>\n"
      ],
      "text/latex": [
       "A data.table: 10 x 8\n",
       "\\begin{tabular}{llllllll}\n",
       " Proposal ID & Unique Proposal ID & CA ID & Question ID & Score & Flagged & Challenge & Short Title\\\\\n",
       " <int> & <chr> & <int> & <int> & <int> & <lgl> & <chr> & <chr>\\\\\n",
       "\\hline\n",
       "\t 350599 & UM5UZBiNh &  1 & 1 & 5 & TRUE & Developer Ecosystem & Step by Step Guide Off Chain Code\\\\\n",
       "\t 350599 & UM5UZBiNh &  2 & 1 & 3 & TRUE & Developer Ecosystem & Step by Step Guide Off Chain Code\\\\\n",
       "\t 350599 & UM5UZBiNh &  9 & 1 & 5 & TRUE & Developer Ecosystem & Step by Step Guide Off Chain Code\\\\\n",
       "\t 350599 & UM5UZBiNh & 11 & 1 & 5 & TRUE & Developer Ecosystem & Step by Step Guide Off Chain Code\\\\\n",
       "\t 350599 & UM5UZBiNh & 13 & 1 & 4 & TRUE & Developer Ecosystem & Step by Step Guide Off Chain Code\\\\\n",
       "\t 350599 & UM5UZBiNh & 14 & 1 & 5 & TRUE & Developer Ecosystem & Step by Step Guide Off Chain Code\\\\\n",
       "\t 350599 & UM5UZBiNh & 15 & 1 & 5 & TRUE & Developer Ecosystem & Step by Step Guide Off Chain Code\\\\\n",
       "\t 350599 & UM5UZBiNh & 16 & 1 & 5 & TRUE & Developer Ecosystem & Step by Step Guide Off Chain Code\\\\\n",
       "\t 350599 & UM5UZBiNh & 18 & 1 & 4 & TRUE & Developer Ecosystem & Step by Step Guide Off Chain Code\\\\\n",
       "\t 350599 & UM5UZBiNh & 19 & 1 & 5 & TRUE & Developer Ecosystem & Step by Step Guide Off Chain Code\\\\\n",
       "\\end{tabular}\n"
      ],
      "text/markdown": [
       "\n",
       "A data.table: 10 x 8\n",
       "\n",
       "| Proposal ID &lt;int&gt; | Unique Proposal ID &lt;chr&gt; | CA ID &lt;int&gt; | Question ID &lt;int&gt; | Score &lt;int&gt; | Flagged &lt;lgl&gt; | Challenge &lt;chr&gt; | Short Title &lt;chr&gt; |\n",
       "|---|---|---|---|---|---|---|---|\n",
       "| 350599 | UM5UZBiNh |  1 | 1 | 5 | TRUE | Developer Ecosystem | Step by Step Guide Off Chain Code |\n",
       "| 350599 | UM5UZBiNh |  2 | 1 | 3 | TRUE | Developer Ecosystem | Step by Step Guide Off Chain Code |\n",
       "| 350599 | UM5UZBiNh |  9 | 1 | 5 | TRUE | Developer Ecosystem | Step by Step Guide Off Chain Code |\n",
       "| 350599 | UM5UZBiNh | 11 | 1 | 5 | TRUE | Developer Ecosystem | Step by Step Guide Off Chain Code |\n",
       "| 350599 | UM5UZBiNh | 13 | 1 | 4 | TRUE | Developer Ecosystem | Step by Step Guide Off Chain Code |\n",
       "| 350599 | UM5UZBiNh | 14 | 1 | 5 | TRUE | Developer Ecosystem | Step by Step Guide Off Chain Code |\n",
       "| 350599 | UM5UZBiNh | 15 | 1 | 5 | TRUE | Developer Ecosystem | Step by Step Guide Off Chain Code |\n",
       "| 350599 | UM5UZBiNh | 16 | 1 | 5 | TRUE | Developer Ecosystem | Step by Step Guide Off Chain Code |\n",
       "| 350599 | UM5UZBiNh | 18 | 1 | 4 | TRUE | Developer Ecosystem | Step by Step Guide Off Chain Code |\n",
       "| 350599 | UM5UZBiNh | 19 | 1 | 5 | TRUE | Developer Ecosystem | Step by Step Guide Off Chain Code |\n",
       "\n"
      ],
      "text/plain": [
       "   Proposal ID Unique Proposal ID CA ID Question ID Score Flagged\n",
       "1  350599      UM5UZBiNh           1    1           5     TRUE   \n",
       "2  350599      UM5UZBiNh           2    1           3     TRUE   \n",
       "3  350599      UM5UZBiNh           9    1           5     TRUE   \n",
       "4  350599      UM5UZBiNh          11    1           5     TRUE   \n",
       "5  350599      UM5UZBiNh          13    1           4     TRUE   \n",
       "6  350599      UM5UZBiNh          14    1           5     TRUE   \n",
       "7  350599      UM5UZBiNh          15    1           5     TRUE   \n",
       "8  350599      UM5UZBiNh          16    1           5     TRUE   \n",
       "9  350599      UM5UZBiNh          18    1           4     TRUE   \n",
       "10 350599      UM5UZBiNh          19    1           5     TRUE   \n",
       "   Challenge           Short Title                      \n",
       "1  Developer Ecosystem Step by Step Guide Off Chain Code\n",
       "2  Developer Ecosystem Step by Step Guide Off Chain Code\n",
       "3  Developer Ecosystem Step by Step Guide Off Chain Code\n",
       "4  Developer Ecosystem Step by Step Guide Off Chain Code\n",
       "5  Developer Ecosystem Step by Step Guide Off Chain Code\n",
       "6  Developer Ecosystem Step by Step Guide Off Chain Code\n",
       "7  Developer Ecosystem Step by Step Guide Off Chain Code\n",
       "8  Developer Ecosystem Step by Step Guide Off Chain Code\n",
       "9  Developer Ecosystem Step by Step Guide Off Chain Code\n",
       "10 Developer Ecosystem Step by Step Guide Off Chain Code"
      ]
     },
     "metadata": {},
     "output_type": "display_data"
    }
   ],
   "source": [
    "f5 <- merge(assessments, challenges, allow.cartesian=TRUE)\n",
    "f5[1:10, ]"
   ]
  },
  {
   "cell_type": "markdown",
   "metadata": {},
   "source": [
    "## CA activity by number of assessments and challenges."
   ]
  },
  {
   "cell_type": "code",
   "execution_count": 7,
   "metadata": {},
   "outputs": [
    {
     "data": {
      "text/plain": [
       "     CA ID       Number of Assessments Number of Challenges\n",
       " Min.   :  1.0   Min.   :  1.00        1      :44          \n",
       " 1st Qu.: 54.5   1st Qu.:  6.00        2      :35          \n",
       " Median :126.5   Median : 12.00        3      :22          \n",
       " Mean   :122.1   Mean   : 39.25        8      :11          \n",
       " 3rd Qu.:183.8   3rd Qu.: 30.00        4      :10          \n",
       " Max.   :255.0   Max.   :798.00        6      : 6          \n",
       "                                       (Other):10          "
      ]
     },
     "metadata": {},
     "output_type": "display_data"
    }
   ],
   "source": [
    "f5.assessments_by_ca <- f5[, .(\n",
    "    `Number of Assessments` = .N,\n",
    "    `Number of Challenges` = factor(length(unique(`Challenge`)), levels=1:10)\n",
    "), by = `CA ID`]\n",
    "f5.assessments_by_ca %>% summary"
   ]
  },
  {
   "cell_type": "code",
   "execution_count": 8,
   "metadata": {},
   "outputs": [
    {
     "data": {},
     "metadata": {},
     "output_type": "display_data"
    },
    {
     "data": {
      "image/png": "[encoded data removed]",
      "text/plain": [
       "plot without title"
      ]
     },
     "metadata": {},
     "output_type": "display_data"
    }
   ],
   "source": [
    "ggplot(f5.assessments_by_ca, aes(x = `Number of Assessments`,fill = `Number of Challenges`)) +\n",
    "    geom_histogram(bins = 50) +\n",
    "    scale_x_log10() +\n",
    "    ylab(\"Number of CAs\") +\n",
    "    ggtitle(\"Histogram of CA Activity\")"
   ]
  },
  {
   "cell_type": "markdown",
   "metadata": {},
   "source": [
    "## High/low scoring patterns."
   ]
  },
  {
   "cell_type": "markdown",
   "metadata": {},
   "source": [
    "### CAs whose only five-star scores went to a single proposal."
   ]
  },
  {
   "cell_type": "code",
   "execution_count": 9,
   "metadata": {},
   "outputs": [
    {
     "data": {
      "text/html": [
       "<table>\n",
       "<caption>A data.table: 31 x 1</caption>\n",
       "<thead>\n",
       "\t<tr><th scope=col>CA ID</th></tr>\n",
       "\t<tr><th scope=col>&lt;int&gt;</th></tr>\n",
       "</thead>\n",
       "<tbody>\n",
       "\t<tr><td> 64</td></tr>\n",
       "\t<tr><td>146</td></tr>\n",
       "\t<tr><td>115</td></tr>\n",
       "\t<tr><td>128</td></tr>\n",
       "\t<tr><td>132</td></tr>\n",
       "\t<tr><td>130</td></tr>\n",
       "\t<tr><td>138</td></tr>\n",
       "\t<tr><td>157</td></tr>\n",
       "\t<tr><td>158</td></tr>\n",
       "\t<tr><td>159</td></tr>\n",
       "\t<tr><td>161</td></tr>\n",
       "\t<tr><td>166</td></tr>\n",
       "\t<tr><td>169</td></tr>\n",
       "\t<tr><td>172</td></tr>\n",
       "\t<tr><td>182</td></tr>\n",
       "\t<tr><td>190</td></tr>\n",
       "\t<tr><td>192</td></tr>\n",
       "\t<tr><td>178</td></tr>\n",
       "\t<tr><td>199</td></tr>\n",
       "\t<tr><td>202</td></tr>\n",
       "\t<tr><td>144</td></tr>\n",
       "\t<tr><td>102</td></tr>\n",
       "\t<tr><td>212</td></tr>\n",
       "\t<tr><td>253</td></tr>\n",
       "\t<tr><td>218</td></tr>\n",
       "\t<tr><td>229</td></tr>\n",
       "\t<tr><td>254</td></tr>\n",
       "\t<tr><td>209</td></tr>\n",
       "\t<tr><td>255</td></tr>\n",
       "\t<tr><td>140</td></tr>\n",
       "\t<tr><td>230</td></tr>\n",
       "</tbody>\n",
       "</table>\n"
      ],
      "text/latex": [
       "A data.table: 31 x 1\n",
       "\\begin{tabular}{l}\n",
       " CA ID\\\\\n",
       " <int>\\\\\n",
       "\\hline\n",
       "\t  64\\\\\n",
       "\t 146\\\\\n",
       "\t 115\\\\\n",
       "\t 128\\\\\n",
       "\t 132\\\\\n",
       "\t 130\\\\\n",
       "\t 138\\\\\n",
       "\t 157\\\\\n",
       "\t 158\\\\\n",
       "\t 159\\\\\n",
       "\t 161\\\\\n",
       "\t 166\\\\\n",
       "\t 169\\\\\n",
       "\t 172\\\\\n",
       "\t 182\\\\\n",
       "\t 190\\\\\n",
       "\t 192\\\\\n",
       "\t 178\\\\\n",
       "\t 199\\\\\n",
       "\t 202\\\\\n",
       "\t 144\\\\\n",
       "\t 102\\\\\n",
       "\t 212\\\\\n",
       "\t 253\\\\\n",
       "\t 218\\\\\n",
       "\t 229\\\\\n",
       "\t 254\\\\\n",
       "\t 209\\\\\n",
       "\t 255\\\\\n",
       "\t 140\\\\\n",
       "\t 230\\\\\n",
       "\\end{tabular}\n"
      ],
      "text/markdown": [
       "\n",
       "A data.table: 31 x 1\n",
       "\n",
       "| CA ID &lt;int&gt; |\n",
       "|---|\n",
       "|  64 |\n",
       "| 146 |\n",
       "| 115 |\n",
       "| 128 |\n",
       "| 132 |\n",
       "| 130 |\n",
       "| 138 |\n",
       "| 157 |\n",
       "| 158 |\n",
       "| 159 |\n",
       "| 161 |\n",
       "| 166 |\n",
       "| 169 |\n",
       "| 172 |\n",
       "| 182 |\n",
       "| 190 |\n",
       "| 192 |\n",
       "| 178 |\n",
       "| 199 |\n",
       "| 202 |\n",
       "| 144 |\n",
       "| 102 |\n",
       "| 212 |\n",
       "| 253 |\n",
       "| 218 |\n",
       "| 229 |\n",
       "| 254 |\n",
       "| 209 |\n",
       "| 255 |\n",
       "| 140 |\n",
       "| 230 |\n",
       "\n"
      ],
      "text/plain": [
       "   CA ID\n",
       "1   64  \n",
       "2  146  \n",
       "3  115  \n",
       "4  128  \n",
       "5  132  \n",
       "6  130  \n",
       "7  138  \n",
       "8  157  \n",
       "9  158  \n",
       "10 159  \n",
       "11 161  \n",
       "12 166  \n",
       "13 169  \n",
       "14 172  \n",
       "15 182  \n",
       "16 190  \n",
       "17 192  \n",
       "18 178  \n",
       "19 199  \n",
       "20 202  \n",
       "21 144  \n",
       "22 102  \n",
       "23 212  \n",
       "24 253  \n",
       "25 218  \n",
       "26 229  \n",
       "27 254  \n",
       "28 209  \n",
       "29 255  \n",
       "30 140  \n",
       "31 230  "
      ]
     },
     "metadata": {},
     "output_type": "display_data"
    }
   ],
   "source": [
    "f5.five_stars_only_one <- f5[\n",
    "    `Score` == 5,\n",
    "    .(`Number of Unique Proposals` = length(unique(`Unique Proposal ID`))),\n",
    "    by = `CA ID`\n",
    "][`Number of Unique Proposals` == 1, .(`CA ID`)]\n",
    "f5.five_stars_only_one"
   ]
  },
  {
   "cell_type": "markdown",
   "metadata": {},
   "source": [
    "### How they scored other proposals."
   ]
  },
  {
   "cell_type": "code",
   "execution_count": 10,
   "metadata": {},
   "outputs": [
    {
     "data": {
      "text/html": [
       "<table>\n",
       "<caption>A data.table: 31 x 7</caption>\n",
       "<thead>\n",
       "\t<tr><th scope=col>CA ID</th><th scope=col>Number of Challenges</th><th scope=col>Score 1</th><th scope=col>Score 2</th><th scope=col>Score 3</th><th scope=col>Score 4</th><th scope=col>Score 5</th></tr>\n",
       "\t<tr><th scope=col>&lt;int&gt;</th><th scope=col>&lt;fct&gt;</th><th scope=col>&lt;int&gt;</th><th scope=col>&lt;int&gt;</th><th scope=col>&lt;int&gt;</th><th scope=col>&lt;int&gt;</th><th scope=col>&lt;int&gt;</th></tr>\n",
       "</thead>\n",
       "<tbody>\n",
       "\t<tr><td> 64</td><td>1</td><td>3</td><td>0</td><td>0</td><td>1</td><td>2</td></tr>\n",
       "\t<tr><td>255</td><td>1</td><td>0</td><td>1</td><td>1</td><td>2</td><td>2</td></tr>\n",
       "\t<tr><td>229</td><td>1</td><td>0</td><td>1</td><td>1</td><td>0</td><td>1</td></tr>\n",
       "\t<tr><td>190</td><td>1</td><td>0</td><td>0</td><td>2</td><td>3</td><td>1</td></tr>\n",
       "\t<tr><td>128</td><td>1</td><td>0</td><td>0</td><td>1</td><td>3</td><td>2</td></tr>\n",
       "\t<tr><td>254</td><td>1</td><td>0</td><td>0</td><td>1</td><td>1</td><td>1</td></tr>\n",
       "\t<tr><td>115</td><td>1</td><td>0</td><td>0</td><td>0</td><td>1</td><td>2</td></tr>\n",
       "\t<tr><td>182</td><td>1</td><td>0</td><td>0</td><td>0</td><td>1</td><td>2</td></tr>\n",
       "\t<tr><td>138</td><td>1</td><td>0</td><td>0</td><td>0</td><td>0</td><td>3</td></tr>\n",
       "\t<tr><td>158</td><td>1</td><td>0</td><td>0</td><td>0</td><td>0</td><td>3</td></tr>\n",
       "\t<tr><td>159</td><td>1</td><td>0</td><td>0</td><td>0</td><td>0</td><td>3</td></tr>\n",
       "\t<tr><td>161</td><td>1</td><td>0</td><td>0</td><td>0</td><td>0</td><td>3</td></tr>\n",
       "\t<tr><td>166</td><td>1</td><td>0</td><td>0</td><td>0</td><td>0</td><td>3</td></tr>\n",
       "\t<tr><td>169</td><td>1</td><td>0</td><td>0</td><td>0</td><td>0</td><td>3</td></tr>\n",
       "\t<tr><td>172</td><td>1</td><td>0</td><td>0</td><td>0</td><td>0</td><td>3</td></tr>\n",
       "\t<tr><td>212</td><td>1</td><td>0</td><td>0</td><td>0</td><td>0</td><td>3</td></tr>\n",
       "\t<tr><td>218</td><td>1</td><td>0</td><td>0</td><td>0</td><td>0</td><td>3</td></tr>\n",
       "\t<tr><td>253</td><td>1</td><td>0</td><td>0</td><td>0</td><td>0</td><td>3</td></tr>\n",
       "\t<tr><td>144</td><td>2</td><td>3</td><td>1</td><td>4</td><td>1</td><td>3</td></tr>\n",
       "\t<tr><td>132</td><td>2</td><td>2</td><td>0</td><td>1</td><td>0</td><td>3</td></tr>\n",
       "\t<tr><td>178</td><td>2</td><td>1</td><td>2</td><td>1</td><td>1</td><td>1</td></tr>\n",
       "\t<tr><td>199</td><td>2</td><td>1</td><td>2</td><td>0</td><td>0</td><td>3</td></tr>\n",
       "\t<tr><td>102</td><td>2</td><td>1</td><td>1</td><td>0</td><td>1</td><td>3</td></tr>\n",
       "\t<tr><td>202</td><td>2</td><td>1</td><td>1</td><td>0</td><td>0</td><td>3</td></tr>\n",
       "\t<tr><td>140</td><td>2</td><td>0</td><td>3</td><td>1</td><td>1</td><td>1</td></tr>\n",
       "\t<tr><td>146</td><td>2</td><td>0</td><td>3</td><td>1</td><td>0</td><td>2</td></tr>\n",
       "\t<tr><td>230</td><td>2</td><td>0</td><td>2</td><td>0</td><td>2</td><td>2</td></tr>\n",
       "\t<tr><td>157</td><td>2</td><td>0</td><td>1</td><td>5</td><td>7</td><td>2</td></tr>\n",
       "\t<tr><td>192</td><td>3</td><td>5</td><td>1</td><td>0</td><td>1</td><td>2</td></tr>\n",
       "\t<tr><td>209</td><td>3</td><td>0</td><td>4</td><td>2</td><td>2</td><td>1</td></tr>\n",
       "\t<tr><td>130</td><td>3</td><td>0</td><td>3</td><td>1</td><td>4</td><td>1</td></tr>\n",
       "</tbody>\n",
       "</table>\n"
      ],
      "text/latex": [
       "A data.table: 31 x 7\n",
       "\\begin{tabular}{lllllll}\n",
       " CA ID & Number of Challenges & Score 1 & Score 2 & Score 3 & Score 4 & Score 5\\\\\n",
       " <int> & <fct> & <int> & <int> & <int> & <int> & <int>\\\\\n",
       "\\hline\n",
       "\t  64 & 1 & 3 & 0 & 0 & 1 & 2\\\\\n",
       "\t 255 & 1 & 0 & 1 & 1 & 2 & 2\\\\\n",
       "\t 229 & 1 & 0 & 1 & 1 & 0 & 1\\\\\n",
       "\t 190 & 1 & 0 & 0 & 2 & 3 & 1\\\\\n",
       "\t 128 & 1 & 0 & 0 & 1 & 3 & 2\\\\\n",
       "\t 254 & 1 & 0 & 0 & 1 & 1 & 1\\\\\n",
       "\t 115 & 1 & 0 & 0 & 0 & 1 & 2\\\\\n",
       "\t 182 & 1 & 0 & 0 & 0 & 1 & 2\\\\\n",
       "\t 138 & 1 & 0 & 0 & 0 & 0 & 3\\\\\n",
       "\t 158 & 1 & 0 & 0 & 0 & 0 & 3\\\\\n",
       "\t 159 & 1 & 0 & 0 & 0 & 0 & 3\\\\\n",
       "\t 161 & 1 & 0 & 0 & 0 & 0 & 3\\\\\n",
       "\t 166 & 1 & 0 & 0 & 0 & 0 & 3\\\\\n",
       "\t 169 & 1 & 0 & 0 & 0 & 0 & 3\\\\\n",
       "\t 172 & 1 & 0 & 0 & 0 & 0 & 3\\\\\n",
       "\t 212 & 1 & 0 & 0 & 0 & 0 & 3\\\\\n",
       "\t 218 & 1 & 0 & 0 & 0 & 0 & 3\\\\\n",
       "\t 253 & 1 & 0 & 0 & 0 & 0 & 3\\\\\n",
       "\t 144 & 2 & 3 & 1 & 4 & 1 & 3\\\\\n",
       "\t 132 & 2 & 2 & 0 & 1 & 0 & 3\\\\\n",
       "\t 178 & 2 & 1 & 2 & 1 & 1 & 1\\\\\n",
       "\t 199 & 2 & 1 & 2 & 0 & 0 & 3\\\\\n",
       "\t 102 & 2 & 1 & 1 & 0 & 1 & 3\\\\\n",
       "\t 202 & 2 & 1 & 1 & 0 & 0 & 3\\\\\n",
       "\t 140 & 2 & 0 & 3 & 1 & 1 & 1\\\\\n",
       "\t 146 & 2 & 0 & 3 & 1 & 0 & 2\\\\\n",
       "\t 230 & 2 & 0 & 2 & 0 & 2 & 2\\\\\n",
       "\t 157 & 2 & 0 & 1 & 5 & 7 & 2\\\\\n",
       "\t 192 & 3 & 5 & 1 & 0 & 1 & 2\\\\\n",
       "\t 209 & 3 & 0 & 4 & 2 & 2 & 1\\\\\n",
       "\t 130 & 3 & 0 & 3 & 1 & 4 & 1\\\\\n",
       "\\end{tabular}\n"
      ],
      "text/markdown": [
       "\n",
       "A data.table: 31 x 7\n",
       "\n",
       "| CA ID &lt;int&gt; | Number of Challenges &lt;fct&gt; | Score 1 &lt;int&gt; | Score 2 &lt;int&gt; | Score 3 &lt;int&gt; | Score 4 &lt;int&gt; | Score 5 &lt;int&gt; |\n",
       "|---|---|---|---|---|---|---|\n",
       "|  64 | 1 | 3 | 0 | 0 | 1 | 2 |\n",
       "| 255 | 1 | 0 | 1 | 1 | 2 | 2 |\n",
       "| 229 | 1 | 0 | 1 | 1 | 0 | 1 |\n",
       "| 190 | 1 | 0 | 0 | 2 | 3 | 1 |\n",
       "| 128 | 1 | 0 | 0 | 1 | 3 | 2 |\n",
       "| 254 | 1 | 0 | 0 | 1 | 1 | 1 |\n",
       "| 115 | 1 | 0 | 0 | 0 | 1 | 2 |\n",
       "| 182 | 1 | 0 | 0 | 0 | 1 | 2 |\n",
       "| 138 | 1 | 0 | 0 | 0 | 0 | 3 |\n",
       "| 158 | 1 | 0 | 0 | 0 | 0 | 3 |\n",
       "| 159 | 1 | 0 | 0 | 0 | 0 | 3 |\n",
       "| 161 | 1 | 0 | 0 | 0 | 0 | 3 |\n",
       "| 166 | 1 | 0 | 0 | 0 | 0 | 3 |\n",
       "| 169 | 1 | 0 | 0 | 0 | 0 | 3 |\n",
       "| 172 | 1 | 0 | 0 | 0 | 0 | 3 |\n",
       "| 212 | 1 | 0 | 0 | 0 | 0 | 3 |\n",
       "| 218 | 1 | 0 | 0 | 0 | 0 | 3 |\n",
       "| 253 | 1 | 0 | 0 | 0 | 0 | 3 |\n",
       "| 144 | 2 | 3 | 1 | 4 | 1 | 3 |\n",
       "| 132 | 2 | 2 | 0 | 1 | 0 | 3 |\n",
       "| 178 | 2 | 1 | 2 | 1 | 1 | 1 |\n",
       "| 199 | 2 | 1 | 2 | 0 | 0 | 3 |\n",
       "| 102 | 2 | 1 | 1 | 0 | 1 | 3 |\n",
       "| 202 | 2 | 1 | 1 | 0 | 0 | 3 |\n",
       "| 140 | 2 | 0 | 3 | 1 | 1 | 1 |\n",
       "| 146 | 2 | 0 | 3 | 1 | 0 | 2 |\n",
       "| 230 | 2 | 0 | 2 | 0 | 2 | 2 |\n",
       "| 157 | 2 | 0 | 1 | 5 | 7 | 2 |\n",
       "| 192 | 3 | 5 | 1 | 0 | 1 | 2 |\n",
       "| 209 | 3 | 0 | 4 | 2 | 2 | 1 |\n",
       "| 130 | 3 | 0 | 3 | 1 | 4 | 1 |\n",
       "\n"
      ],
      "text/plain": [
       "   CA ID Number of Challenges Score 1 Score 2 Score 3 Score 4 Score 5\n",
       "1   64   1                    3       0       0       1       2      \n",
       "2  255   1                    0       1       1       2       2      \n",
       "3  229   1                    0       1       1       0       1      \n",
       "4  190   1                    0       0       2       3       1      \n",
       "5  128   1                    0       0       1       3       2      \n",
       "6  254   1                    0       0       1       1       1      \n",
       "7  115   1                    0       0       0       1       2      \n",
       "8  182   1                    0       0       0       1       2      \n",
       "9  138   1                    0       0       0       0       3      \n",
       "10 158   1                    0       0       0       0       3      \n",
       "11 159   1                    0       0       0       0       3      \n",
       "12 161   1                    0       0       0       0       3      \n",
       "13 166   1                    0       0       0       0       3      \n",
       "14 169   1                    0       0       0       0       3      \n",
       "15 172   1                    0       0       0       0       3      \n",
       "16 212   1                    0       0       0       0       3      \n",
       "17 218   1                    0       0       0       0       3      \n",
       "18 253   1                    0       0       0       0       3      \n",
       "19 144   2                    3       1       4       1       3      \n",
       "20 132   2                    2       0       1       0       3      \n",
       "21 178   2                    1       2       1       1       1      \n",
       "22 199   2                    1       2       0       0       3      \n",
       "23 102   2                    1       1       0       1       3      \n",
       "24 202   2                    1       1       0       0       3      \n",
       "25 140   2                    0       3       1       1       1      \n",
       "26 146   2                    0       3       1       0       2      \n",
       "27 230   2                    0       2       0       2       2      \n",
       "28 157   2                    0       1       5       7       2      \n",
       "29 192   3                    5       1       0       1       2      \n",
       "30 209   3                    0       4       2       2       1      \n",
       "31 130   3                    0       3       1       4       1      "
      ]
     },
     "metadata": {},
     "output_type": "display_data"
    }
   ],
   "source": [
    "f5.score_by_ca <- merge(\n",
    "    f5.assessments_by_ca[`CA ID` %in% f5.five_stars_only_one[, `CA ID`], .(`CA ID`, `Number of Challenges`)],\n",
    "    dcast(f5[, .N, by = .(`CA ID`, `Score`)], `CA ID` ~ `Score`, value.var = \"N\", fill = 0),\n",
    "    by = \"CA ID\"\n",
    ")\n",
    "colnames(f5.score_by_ca) <- c(\"CA ID\", \"Number of Challenges\", \"Score 1\", \"Score 2\", \"Score 3\", \"Score 4\", \"Score 5\")\n",
    "f5.score_by_ca[order(`Number of Challenges`, - `Score 1`, - `Score 2`, - `Score 3`, - `Score 4`)]"
   ]
  },
  {
   "cell_type": "markdown",
   "metadata": {},
   "source": [
    "### Cases where the CA scored one proposal highly, and all other proposals received low scores."
   ]
  },
  {
   "cell_type": "code",
   "execution_count": 11,
   "metadata": {},
   "outputs": [
    {
     "data": {
      "text/html": [
       "<table>\n",
       "<caption>A data.table: 26 x 8</caption>\n",
       "<thead>\n",
       "\t<tr><th scope=col>Proposal ID</th><th scope=col>Unique Proposal ID</th><th scope=col>CA ID</th><th scope=col>Question ID</th><th scope=col>Score</th><th scope=col>Flagged</th><th scope=col>Challenge</th><th scope=col>Short Title</th></tr>\n",
       "\t<tr><th scope=col>&lt;int&gt;</th><th scope=col>&lt;chr&gt;</th><th scope=col>&lt;int&gt;</th><th scope=col>&lt;int&gt;</th><th scope=col>&lt;int&gt;</th><th scope=col>&lt;lgl&gt;</th><th scope=col>&lt;chr&gt;</th><th scope=col>&lt;chr&gt;</th></tr>\n",
       "</thead>\n",
       "<tbody>\n",
       "\t<tr><td>350661</td><td>UM5UZBiOi</td><td> 64</td><td>1</td><td>5</td><td>FALSE</td><td>DApps Integrations </td><td>ChainEscrow On chain escrow dApp  </td></tr>\n",
       "\t<tr><td>350661</td><td>UM5UZBiOi</td><td> 64</td><td>2</td><td>4</td><td>FALSE</td><td>DApps Integrations </td><td>ChainEscrow On chain escrow dApp  </td></tr>\n",
       "\t<tr><td>350661</td><td>UM5UZBiOi</td><td> 64</td><td>3</td><td>5</td><td>FALSE</td><td>DApps Integrations </td><td>ChainEscrow On chain escrow dApp  </td></tr>\n",
       "\t<tr><td>351002</td><td>UM5UZBiUI</td><td> 64</td><td>1</td><td>1</td><td>FALSE</td><td>DApps Integrations </td><td>Decentralised maps and nfts       </td></tr>\n",
       "\t<tr><td>351002</td><td>UM5UZBiUI</td><td> 64</td><td>2</td><td>1</td><td>FALSE</td><td>DApps Integrations </td><td>Decentralised maps and nfts       </td></tr>\n",
       "\t<tr><td>351002</td><td>UM5UZBiUI</td><td> 64</td><td>3</td><td>1</td><td>FALSE</td><td>DApps Integrations </td><td>Decentralised maps and nfts       </td></tr>\n",
       "\t<tr><td>352014</td><td>UM5UZBilt</td><td>192</td><td>1</td><td>2</td><td>FALSE</td><td>Defi Ecosystem     </td><td>Daedalus Wallet Node SBC Devices  </td></tr>\n",
       "\t<tr><td>352014</td><td>UM5UZBilt</td><td>192</td><td>2</td><td>1</td><td>FALSE</td><td>Defi Ecosystem     </td><td>Daedalus Wallet Node SBC Devices  </td></tr>\n",
       "\t<tr><td>352014</td><td>UM5UZBilt</td><td>192</td><td>3</td><td>1</td><td>FALSE</td><td>Defi Ecosystem     </td><td>Daedalus Wallet Node SBC Devices  </td></tr>\n",
       "\t<tr><td>352020</td><td>UM5UZBilz</td><td>192</td><td>1</td><td>4</td><td>FALSE</td><td>Developer Ecosystem</td><td>NFT Key                           </td></tr>\n",
       "\t<tr><td>352020</td><td>UM5UZBilz</td><td>192</td><td>2</td><td>5</td><td>FALSE</td><td>Developer Ecosystem</td><td>NFT Key                           </td></tr>\n",
       "\t<tr><td>352020</td><td>UM5UZBilz</td><td>192</td><td>3</td><td>5</td><td>FALSE</td><td>Developer Ecosystem</td><td>NFT Key                           </td></tr>\n",
       "\t<tr><td>352031</td><td>UM5UZBimA</td><td>192</td><td>1</td><td>1</td><td>FALSE</td><td>DApps Integrations </td><td>Insurance Claims Processing       </td></tr>\n",
       "\t<tr><td>352031</td><td>UM5UZBimA</td><td>192</td><td>2</td><td>1</td><td>FALSE</td><td>DApps Integrations </td><td>Insurance Claims Processing       </td></tr>\n",
       "\t<tr><td>352031</td><td>UM5UZBimA</td><td>192</td><td>3</td><td>1</td><td>FALSE</td><td>DApps Integrations </td><td>Insurance Claims Processing       </td></tr>\n",
       "\t<tr><td>352260</td><td>UM5UZBipv</td><td>199</td><td>1</td><td>5</td><td>FALSE</td><td>Developer Ecosystem</td><td>Crowdfunding Website for Proposals</td></tr>\n",
       "\t<tr><td>352260</td><td>UM5UZBipv</td><td>199</td><td>2</td><td>5</td><td>FALSE</td><td>Developer Ecosystem</td><td>Crowdfunding Website for Proposals</td></tr>\n",
       "\t<tr><td>352260</td><td>UM5UZBipv</td><td>199</td><td>3</td><td>5</td><td>FALSE</td><td>Developer Ecosystem</td><td>Crowdfunding Website for Proposals</td></tr>\n",
       "\t<tr><td>352262</td><td>UM5UZBipx</td><td>199</td><td>1</td><td>2</td><td>FALSE</td><td>Grow Africa        </td><td>African launchpad                 </td></tr>\n",
       "\t<tr><td>352262</td><td>UM5UZBipx</td><td>199</td><td>2</td><td>2</td><td>FALSE</td><td>Grow Africa        </td><td>African launchpad                 </td></tr>\n",
       "\t<tr><td>352262</td><td>UM5UZBipx</td><td>199</td><td>3</td><td>1</td><td>FALSE</td><td>Grow Africa        </td><td>African launchpad                 </td></tr>\n",
       "\t<tr><td>352410</td><td>UM5UZBisN</td><td>202</td><td>1</td><td>5</td><td> TRUE</td><td>Defi Ecosystem     </td><td>ErgoDex Plutus Port               </td></tr>\n",
       "\t<tr><td>352410</td><td>UM5UZBisN</td><td>202</td><td>2</td><td>5</td><td> TRUE</td><td>Defi Ecosystem     </td><td>ErgoDex Plutus Port               </td></tr>\n",
       "\t<tr><td>352410</td><td>UM5UZBisN</td><td>202</td><td>3</td><td>5</td><td> TRUE</td><td>Defi Ecosystem     </td><td>ErgoDex Plutus Port               </td></tr>\n",
       "\t<tr><td>352411</td><td>UM5UZBisO</td><td>202</td><td>1</td><td>2</td><td>FALSE</td><td>Metadata Challenge </td><td>Jenner Patient Reported Outcomes  </td></tr>\n",
       "\t<tr><td>352411</td><td>UM5UZBisO</td><td>202</td><td>2</td><td>1</td><td>FALSE</td><td>Metadata Challenge </td><td>Jenner Patient Reported Outcomes  </td></tr>\n",
       "</tbody>\n",
       "</table>\n"
      ],
      "text/latex": [
       "A data.table: 26 x 8\n",
       "\\begin{tabular}{llllllll}\n",
       " Proposal ID & Unique Proposal ID & CA ID & Question ID & Score & Flagged & Challenge & Short Title\\\\\n",
       " <int> & <chr> & <int> & <int> & <int> & <lgl> & <chr> & <chr>\\\\\n",
       "\\hline\n",
       "\t 350661 & UM5UZBiOi &  64 & 1 & 5 & FALSE & DApps Integrations  & ChainEscrow On chain escrow dApp  \\\\\n",
       "\t 350661 & UM5UZBiOi &  64 & 2 & 4 & FALSE & DApps Integrations  & ChainEscrow On chain escrow dApp  \\\\\n",
       "\t 350661 & UM5UZBiOi &  64 & 3 & 5 & FALSE & DApps Integrations  & ChainEscrow On chain escrow dApp  \\\\\n",
       "\t 351002 & UM5UZBiUI &  64 & 1 & 1 & FALSE & DApps Integrations  & Decentralised maps and nfts       \\\\\n",
       "\t 351002 & UM5UZBiUI &  64 & 2 & 1 & FALSE & DApps Integrations  & Decentralised maps and nfts       \\\\\n",
       "\t 351002 & UM5UZBiUI &  64 & 3 & 1 & FALSE & DApps Integrations  & Decentralised maps and nfts       \\\\\n",
       "\t 352014 & UM5UZBilt & 192 & 1 & 2 & FALSE & Defi Ecosystem      & Daedalus Wallet Node SBC Devices  \\\\\n",
       "\t 352014 & UM5UZBilt & 192 & 2 & 1 & FALSE & Defi Ecosystem      & Daedalus Wallet Node SBC Devices  \\\\\n",
       "\t 352014 & UM5UZBilt & 192 & 3 & 1 & FALSE & Defi Ecosystem      & Daedalus Wallet Node SBC Devices  \\\\\n",
       "\t 352020 & UM5UZBilz & 192 & 1 & 4 & FALSE & Developer Ecosystem & NFT Key                           \\\\\n",
       "\t 352020 & UM5UZBilz & 192 & 2 & 5 & FALSE & Developer Ecosystem & NFT Key                           \\\\\n",
       "\t 352020 & UM5UZBilz & 192 & 3 & 5 & FALSE & Developer Ecosystem & NFT Key                           \\\\\n",
       "\t 352031 & UM5UZBimA & 192 & 1 & 1 & FALSE & DApps Integrations  & Insurance Claims Processing       \\\\\n",
       "\t 352031 & UM5UZBimA & 192 & 2 & 1 & FALSE & DApps Integrations  & Insurance Claims Processing       \\\\\n",
       "\t 352031 & UM5UZBimA & 192 & 3 & 1 & FALSE & DApps Integrations  & Insurance Claims Processing       \\\\\n",
       "\t 352260 & UM5UZBipv & 199 & 1 & 5 & FALSE & Developer Ecosystem & Crowdfunding Website for Proposals\\\\\n",
       "\t 352260 & UM5UZBipv & 199 & 2 & 5 & FALSE & Developer Ecosystem & Crowdfunding Website for Proposals\\\\\n",
       "\t 352260 & UM5UZBipv & 199 & 3 & 5 & FALSE & Developer Ecosystem & Crowdfunding Website for Proposals\\\\\n",
       "\t 352262 & UM5UZBipx & 199 & 1 & 2 & FALSE & Grow Africa         & African launchpad                 \\\\\n",
       "\t 352262 & UM5UZBipx & 199 & 2 & 2 & FALSE & Grow Africa         & African launchpad                 \\\\\n",
       "\t 352262 & UM5UZBipx & 199 & 3 & 1 & FALSE & Grow Africa         & African launchpad                 \\\\\n",
       "\t 352410 & UM5UZBisN & 202 & 1 & 5 &  TRUE & Defi Ecosystem      & ErgoDex Plutus Port               \\\\\n",
       "\t 352410 & UM5UZBisN & 202 & 2 & 5 &  TRUE & Defi Ecosystem      & ErgoDex Plutus Port               \\\\\n",
       "\t 352410 & UM5UZBisN & 202 & 3 & 5 &  TRUE & Defi Ecosystem      & ErgoDex Plutus Port               \\\\\n",
       "\t 352411 & UM5UZBisO & 202 & 1 & 2 & FALSE & Metadata Challenge  & Jenner Patient Reported Outcomes  \\\\\n",
       "\t 352411 & UM5UZBisO & 202 & 2 & 1 & FALSE & Metadata Challenge  & Jenner Patient Reported Outcomes  \\\\\n",
       "\\end{tabular}\n"
      ],
      "text/markdown": [
       "\n",
       "A data.table: 26 x 8\n",
       "\n",
       "| Proposal ID &lt;int&gt; | Unique Proposal ID &lt;chr&gt; | CA ID &lt;int&gt; | Question ID &lt;int&gt; | Score &lt;int&gt; | Flagged &lt;lgl&gt; | Challenge &lt;chr&gt; | Short Title &lt;chr&gt; |\n",
       "|---|---|---|---|---|---|---|---|\n",
       "| 350661 | UM5UZBiOi |  64 | 1 | 5 | FALSE | DApps Integrations  | ChainEscrow On chain escrow dApp   |\n",
       "| 350661 | UM5UZBiOi |  64 | 2 | 4 | FALSE | DApps Integrations  | ChainEscrow On chain escrow dApp   |\n",
       "| 350661 | UM5UZBiOi |  64 | 3 | 5 | FALSE | DApps Integrations  | ChainEscrow On chain escrow dApp   |\n",
       "| 351002 | UM5UZBiUI |  64 | 1 | 1 | FALSE | DApps Integrations  | Decentralised maps and nfts        |\n",
       "| 351002 | UM5UZBiUI |  64 | 2 | 1 | FALSE | DApps Integrations  | Decentralised maps and nfts        |\n",
       "| 351002 | UM5UZBiUI |  64 | 3 | 1 | FALSE | DApps Integrations  | Decentralised maps and nfts        |\n",
       "| 352014 | UM5UZBilt | 192 | 1 | 2 | FALSE | Defi Ecosystem      | Daedalus Wallet Node SBC Devices   |\n",
       "| 352014 | UM5UZBilt | 192 | 2 | 1 | FALSE | Defi Ecosystem      | Daedalus Wallet Node SBC Devices   |\n",
       "| 352014 | UM5UZBilt | 192 | 3 | 1 | FALSE | Defi Ecosystem      | Daedalus Wallet Node SBC Devices   |\n",
       "| 352020 | UM5UZBilz | 192 | 1 | 4 | FALSE | Developer Ecosystem | NFT Key                            |\n",
       "| 352020 | UM5UZBilz | 192 | 2 | 5 | FALSE | Developer Ecosystem | NFT Key                            |\n",
       "| 352020 | UM5UZBilz | 192 | 3 | 5 | FALSE | Developer Ecosystem | NFT Key                            |\n",
       "| 352031 | UM5UZBimA | 192 | 1 | 1 | FALSE | DApps Integrations  | Insurance Claims Processing        |\n",
       "| 352031 | UM5UZBimA | 192 | 2 | 1 | FALSE | DApps Integrations  | Insurance Claims Processing        |\n",
       "| 352031 | UM5UZBimA | 192 | 3 | 1 | FALSE | DApps Integrations  | Insurance Claims Processing        |\n",
       "| 352260 | UM5UZBipv | 199 | 1 | 5 | FALSE | Developer Ecosystem | Crowdfunding Website for Proposals |\n",
       "| 352260 | UM5UZBipv | 199 | 2 | 5 | FALSE | Developer Ecosystem | Crowdfunding Website for Proposals |\n",
       "| 352260 | UM5UZBipv | 199 | 3 | 5 | FALSE | Developer Ecosystem | Crowdfunding Website for Proposals |\n",
       "| 352262 | UM5UZBipx | 199 | 1 | 2 | FALSE | Grow Africa         | African launchpad                  |\n",
       "| 352262 | UM5UZBipx | 199 | 2 | 2 | FALSE | Grow Africa         | African launchpad                  |\n",
       "| 352262 | UM5UZBipx | 199 | 3 | 1 | FALSE | Grow Africa         | African launchpad                  |\n",
       "| 352410 | UM5UZBisN | 202 | 1 | 5 |  TRUE | Defi Ecosystem      | ErgoDex Plutus Port                |\n",
       "| 352410 | UM5UZBisN | 202 | 2 | 5 |  TRUE | Defi Ecosystem      | ErgoDex Plutus Port                |\n",
       "| 352410 | UM5UZBisN | 202 | 3 | 5 |  TRUE | Defi Ecosystem      | ErgoDex Plutus Port                |\n",
       "| 352411 | UM5UZBisO | 202 | 1 | 2 | FALSE | Metadata Challenge  | Jenner Patient Reported Outcomes   |\n",
       "| 352411 | UM5UZBisO | 202 | 2 | 1 | FALSE | Metadata Challenge  | Jenner Patient Reported Outcomes   |\n",
       "\n"
      ],
      "text/plain": [
       "   Proposal ID Unique Proposal ID CA ID Question ID Score Flagged\n",
       "1  350661      UM5UZBiOi           64   1           5     FALSE  \n",
       "2  350661      UM5UZBiOi           64   2           4     FALSE  \n",
       "3  350661      UM5UZBiOi           64   3           5     FALSE  \n",
       "4  351002      UM5UZBiUI           64   1           1     FALSE  \n",
       "5  351002      UM5UZBiUI           64   2           1     FALSE  \n",
       "6  351002      UM5UZBiUI           64   3           1     FALSE  \n",
       "7  352014      UM5UZBilt          192   1           2     FALSE  \n",
       "8  352014      UM5UZBilt          192   2           1     FALSE  \n",
       "9  352014      UM5UZBilt          192   3           1     FALSE  \n",
       "10 352020      UM5UZBilz          192   1           4     FALSE  \n",
       "11 352020      UM5UZBilz          192   2           5     FALSE  \n",
       "12 352020      UM5UZBilz          192   3           5     FALSE  \n",
       "13 352031      UM5UZBimA          192   1           1     FALSE  \n",
       "14 352031      UM5UZBimA          192   2           1     FALSE  \n",
       "15 352031      UM5UZBimA          192   3           1     FALSE  \n",
       "16 352260      UM5UZBipv          199   1           5     FALSE  \n",
       "17 352260      UM5UZBipv          199   2           5     FALSE  \n",
       "18 352260      UM5UZBipv          199   3           5     FALSE  \n",
       "19 352262      UM5UZBipx          199   1           2     FALSE  \n",
       "20 352262      UM5UZBipx          199   2           2     FALSE  \n",
       "21 352262      UM5UZBipx          199   3           1     FALSE  \n",
       "22 352410      UM5UZBisN          202   1           5      TRUE  \n",
       "23 352410      UM5UZBisN          202   2           5      TRUE  \n",
       "24 352410      UM5UZBisN          202   3           5      TRUE  \n",
       "25 352411      UM5UZBisO          202   1           2     FALSE  \n",
       "26 352411      UM5UZBisO          202   2           1     FALSE  \n",
       "   Challenge           Short Title                       \n",
       "1  DApps Integrations  ChainEscrow On chain escrow dApp  \n",
       "2  DApps Integrations  ChainEscrow On chain escrow dApp  \n",
       "3  DApps Integrations  ChainEscrow On chain escrow dApp  \n",
       "4  DApps Integrations  Decentralised maps and nfts       \n",
       "5  DApps Integrations  Decentralised maps and nfts       \n",
       "6  DApps Integrations  Decentralised maps and nfts       \n",
       "7  Defi Ecosystem      Daedalus Wallet Node SBC Devices  \n",
       "8  Defi Ecosystem      Daedalus Wallet Node SBC Devices  \n",
       "9  Defi Ecosystem      Daedalus Wallet Node SBC Devices  \n",
       "10 Developer Ecosystem NFT Key                           \n",
       "11 Developer Ecosystem NFT Key                           \n",
       "12 Developer Ecosystem NFT Key                           \n",
       "13 DApps Integrations  Insurance Claims Processing       \n",
       "14 DApps Integrations  Insurance Claims Processing       \n",
       "15 DApps Integrations  Insurance Claims Processing       \n",
       "16 Developer Ecosystem Crowdfunding Website for Proposals\n",
       "17 Developer Ecosystem Crowdfunding Website for Proposals\n",
       "18 Developer Ecosystem Crowdfunding Website for Proposals\n",
       "19 Grow Africa         African launchpad                 \n",
       "20 Grow Africa         African launchpad                 \n",
       "21 Grow Africa         African launchpad                 \n",
       "22 Defi Ecosystem      ErgoDex Plutus Port               \n",
       "23 Defi Ecosystem      ErgoDex Plutus Port               \n",
       "24 Defi Ecosystem      ErgoDex Plutus Port               \n",
       "25 Metadata Challenge  Jenner Patient Reported Outcomes  \n",
       "26 Metadata Challenge  Jenner Patient Reported Outcomes  "
      ]
     },
     "metadata": {},
     "output_type": "display_data"
    }
   ],
   "source": [
    "f5[`CA ID` %in% c(64,199,202,192)][order(`CA ID`, `Unique Proposal ID`, `Question ID`)]"
   ]
  },
  {
   "cell_type": "markdown",
   "metadata": {},
   "source": [
    "### Cases where the CA scored only one proposal and gave it five stars."
   ]
  },
  {
   "cell_type": "code",
   "execution_count": 12,
   "metadata": {},
   "outputs": [
    {
     "data": {
      "text/html": [
       "<table>\n",
       "<caption>A data.table: 10 x 1</caption>\n",
       "<thead>\n",
       "\t<tr><th scope=col>CA ID</th></tr>\n",
       "\t<tr><th scope=col>&lt;int&gt;</th></tr>\n",
       "</thead>\n",
       "<tbody>\n",
       "\t<tr><td>138</td></tr>\n",
       "\t<tr><td>158</td></tr>\n",
       "\t<tr><td>159</td></tr>\n",
       "\t<tr><td>161</td></tr>\n",
       "\t<tr><td>166</td></tr>\n",
       "\t<tr><td>169</td></tr>\n",
       "\t<tr><td>172</td></tr>\n",
       "\t<tr><td>212</td></tr>\n",
       "\t<tr><td>218</td></tr>\n",
       "\t<tr><td>253</td></tr>\n",
       "</tbody>\n",
       "</table>\n"
      ],
      "text/latex": [
       "A data.table: 10 x 1\n",
       "\\begin{tabular}{l}\n",
       " CA ID\\\\\n",
       " <int>\\\\\n",
       "\\hline\n",
       "\t 138\\\\\n",
       "\t 158\\\\\n",
       "\t 159\\\\\n",
       "\t 161\\\\\n",
       "\t 166\\\\\n",
       "\t 169\\\\\n",
       "\t 172\\\\\n",
       "\t 212\\\\\n",
       "\t 218\\\\\n",
       "\t 253\\\\\n",
       "\\end{tabular}\n"
      ],
      "text/markdown": [
       "\n",
       "A data.table: 10 x 1\n",
       "\n",
       "| CA ID &lt;int&gt; |\n",
       "|---|\n",
       "| 138 |\n",
       "| 158 |\n",
       "| 159 |\n",
       "| 161 |\n",
       "| 166 |\n",
       "| 169 |\n",
       "| 172 |\n",
       "| 212 |\n",
       "| 218 |\n",
       "| 253 |\n",
       "\n"
      ],
      "text/plain": [
       "   CA ID\n",
       "1  138  \n",
       "2  158  \n",
       "3  159  \n",
       "4  161  \n",
       "5  166  \n",
       "6  169  \n",
       "7  172  \n",
       "8  212  \n",
       "9  218  \n",
       "10 253  "
      ]
     },
     "metadata": {},
     "output_type": "display_data"
    }
   ],
   "source": [
    "f5.score_by_ca[`Score 1` + `Score 2` + `Score 3` + `Score 4` == 0, .(`CA ID`)]"
   ]
  },
  {
   "cell_type": "markdown",
   "metadata": {},
   "source": [
    "## Estimating the influence of CAs."
   ]
  },
  {
   "cell_type": "markdown",
   "metadata": {},
   "source": [
    "### Would the proposal with the highest score in each challenge change if all of a CA's assessments were eliminated?"
   ]
  },
  {
   "cell_type": "code",
   "execution_count": 13,
   "metadata": {},
   "outputs": [],
   "source": [
    "# Function that computes the $N$ top-ranked proposals in each challenge.\n",
    "\n",
    "topRanked <- function(f5x, count = 1) {\n",
    "    meanScores <- f5x[, .(\n",
    "        `Mean Score` = mean(`Score`)\n",
    "    ), by = .(\n",
    "        `Challenge`,\n",
    "        `Unique Proposal ID`\n",
    "    )][order(`Challenge`, - `Mean Score`)]\n",
    "    topScores <- meanScores[, .(\n",
    "        `Unique Proposal ID`,\n",
    "        Rank = sequence(.N)\n",
    "    ), by = .(`Challenge`)]\n",
    "    topScores[`Rank` <= count]$`Unique Proposal ID`\n",
    "}"
   ]
  },
  {
   "cell_type": "code",
   "execution_count": 14,
   "metadata": {},
   "outputs": [],
   "source": [
    "# Function that computes how many top rankings would change if a CA had not made any assessments.\n",
    "\n",
    "changesTop <- function(caId, count = 1, f5x = f5) {\n",
    "    before <- topRanked(f5x, count)\n",
    "    after <- topRanked(f5x[`CA ID` != 1], count)\n",
    "    length(setdiff(before, after))\n",
    "}"
   ]
  },
  {
   "cell_type": "markdown",
   "metadata": {},
   "source": [
    "#### It turns out that for Fund 5, eliminating any single CA's assessments would not change the list of highest-scored proposals in any challenge."
   ]
  },
  {
   "cell_type": "code",
   "execution_count": 15,
   "metadata": {},
   "outputs": [
    {
     "data": {
      "text/html": [
       "<table>\n",
       "<caption>A data.table: 0 x 2</caption>\n",
       "<thead>\n",
       "\t<tr><th scope=col>CA ID</th><th scope=col>Number of Highest-Score Proposals that Change when CA is Eliminated</th></tr>\n",
       "\t<tr><th scope=col>&lt;int&gt;</th><th scope=col>&lt;int&gt;</th></tr>\n",
       "</thead>\n",
       "<tbody>\n",
       "</tbody>\n",
       "</table>\n"
      ],
      "text/latex": [
       "A data.table: 0 x 2\n",
       "\\begin{tabular}{ll}\n",
       " CA ID & Number of Highest-Score Proposals that Change when CA is Eliminated\\\\\n",
       " <int> & <int>\\\\\n",
       "\\hline\n",
       "\\end{tabular}\n"
      ],
      "text/markdown": [
       "\n",
       "A data.table: 0 x 2\n",
       "\n",
       "| CA ID &lt;int&gt; | Number of Highest-Score Proposals that Change when CA is Eliminated &lt;int&gt; |\n",
       "|---|---|\n",
       "\n"
      ],
      "text/plain": [
       "     CA ID Number of Highest-Score Proposals that Change when CA is Eliminated"
      ]
     },
     "metadata": {},
     "output_type": "display_data"
    }
   ],
   "source": [
    "f5[, .(\n",
    "    `Number of Highest-Score Proposals that Change when CA is Eliminated` = mapply(changesTop, `CA ID`)\n",
    "), by = .(`CA ID`)][\n",
    "    `Number of Highest-Score Proposals that Change when CA is Eliminated` > 0\n",
    "]"
   ]
  },
  {
   "cell_type": "markdown",
   "metadata": {},
   "source": [
    "#### Even the set of the highest-scored nine proposals in each challenge doesn't change if any particular CA's assessments are all eliminated."
   ]
  },
  {
   "cell_type": "code",
   "execution_count": 16,
   "metadata": {},
   "outputs": [
    {
     "data": {
      "text/html": [
       "<table>\n",
       "<caption>A data.table: 0 x 2</caption>\n",
       "<thead>\n",
       "\t<tr><th scope=col>CA ID</th><th scope=col>Number of Top 9 Proposals that Change when CA is Eliminated</th></tr>\n",
       "\t<tr><th scope=col>&lt;int&gt;</th><th scope=col>&lt;int&gt;</th></tr>\n",
       "</thead>\n",
       "<tbody>\n",
       "</tbody>\n",
       "</table>\n"
      ],
      "text/latex": [
       "A data.table: 0 x 2\n",
       "\\begin{tabular}{ll}\n",
       " CA ID & Number of Top 9 Proposals that Change when CA is Eliminated\\\\\n",
       " <int> & <int>\\\\\n",
       "\\hline\n",
       "\\end{tabular}\n"
      ],
      "text/markdown": [
       "\n",
       "A data.table: 0 x 2\n",
       "\n",
       "| CA ID &lt;int&gt; | Number of Top 9 Proposals that Change when CA is Eliminated &lt;int&gt; |\n",
       "|---|---|\n",
       "\n"
      ],
      "text/plain": [
       "     CA ID Number of Top 9 Proposals that Change when CA is Eliminated"
      ]
     },
     "metadata": {},
     "output_type": "display_data"
    }
   ],
   "source": [
    "f5[, .(\n",
    "    `Number of Top 9 Proposals that Change when CA is Eliminated` = mapply(changesTop, `CA ID`, 9)\n",
    "), by = .(`CA ID`)][\n",
    "    `Number of Top 9 Proposals that Change when CA is Eliminated` > 0\n",
    "]"
   ]
  },
  {
   "cell_type": "markdown",
   "metadata": {},
   "source": [
    "#### However, the set of the ten highest-scored proposals in each challenge does change if any of 138 CA's assessments are all eliminated."
   ]
  },
  {
   "cell_type": "code",
   "execution_count": 17,
   "metadata": {},
   "outputs": [
    {
     "data": {
      "text/html": [
       "138"
      ],
      "text/latex": [
       "138"
      ],
      "text/markdown": [
       "138"
      ],
      "text/plain": [
       "[1] 138"
      ]
     },
     "metadata": {},
     "output_type": "display_data"
    }
   ],
   "source": [
    "f5[, .(\n",
    "    `Number of Top 10 Proposals that Change when CA is Eliminated` = mapply(changesTop, `CA ID`, 10)\n",
    "), by = .(`CA ID`)][\n",
    "    `Number of Top 10 Proposals that Change when CA is Eliminated` > 0\n",
    "] %>% nrow"
   ]
  },
  {
   "cell_type": "markdown",
   "metadata": {},
   "source": [
    "### How much would eliminating a CA's assessment perturb the score-ordered list of proposals in each challenge?"
   ]
  },
  {
   "cell_type": "code",
   "execution_count": 18,
   "metadata": {},
   "outputs": [],
   "source": [
    "# Function that computes how much the ranking of all proposals would change if a CA had not made any assessments.\n",
    "\n",
    "changesRanks <- function(caId, f5x = f5) {\n",
    "    before <- f5x[, .(\n",
    "        `Mean Score` = mean(`Score`)\n",
    "    ), by = .(\n",
    "        `Challenge`,\n",
    "        `Unique Proposal ID`\n",
    "    )][\n",
    "        order(`Challenge`, - `Mean Score`)\n",
    "    ][, .(\n",
    "        `Unique Proposal ID`,\n",
    "        `Rank with CA` = sequence(.N)\n",
    "    ), by = .(\n",
    "        `Challenge`\n",
    "    )]\n",
    "    after <- f5x[\n",
    "        `CA ID` != caId\n",
    "    ][, .(\n",
    "        `Mean Score` = mean(`Score`)\n",
    "    ), by = .(\n",
    "        `Challenge`,\n",
    "        `Unique Proposal ID`\n",
    "    )][\n",
    "        order(`Challenge`, - `Mean Score`)\n",
    "    ][, .(\n",
    "        `Unique Proposal ID`,\n",
    "        `Rank without CA` = sequence(.N)\n",
    "    ), by = .(\n",
    "        `Challenge`\n",
    "    )]\n",
    "    merge(before, after, by = c(\"Challenge\", \"Unique Proposal ID\"))[\n",
    "        `Rank with CA` != `Rank without CA`,\n",
    "    .(\n",
    "        `CA ID` = caId,\n",
    "        `Number of Rank Changes` = .N\n",
    "    ), by = .(\n",
    "        `Challenge`\n",
    "    )]\n",
    "}"
   ]
  },
  {
   "cell_type": "code",
   "execution_count": 19,
   "metadata": {},
   "outputs": [
    {
     "data": {
      "text/html": [
       "<table>\n",
       "<caption>A data.table: 10 x 4</caption>\n",
       "<thead>\n",
       "\t<tr><th scope=col>Challenge</th><th scope=col>CA ID</th><th scope=col>Number of Rank Changes</th><th scope=col>Assessments</th></tr>\n",
       "\t<tr><th scope=col>&lt;chr&gt;</th><th scope=col>&lt;int&gt;</th><th scope=col>&lt;int&gt;</th><th scope=col>&lt;int&gt;</th></tr>\n",
       "</thead>\n",
       "<tbody>\n",
       "\t<tr><td>Catalyst Onboarding</td><td> 2</td><td>2</td><td> 2</td></tr>\n",
       "\t<tr><td>Catalyst Onboarding</td><td>11</td><td>9</td><td>57</td></tr>\n",
       "\t<tr><td>Catalyst Onboarding</td><td>13</td><td>3</td><td> 9</td></tr>\n",
       "\t<tr><td>Catalyst Onboarding</td><td>20</td><td>2</td><td>15</td></tr>\n",
       "\t<tr><td>Catalyst Onboarding</td><td>22</td><td>5</td><td> 6</td></tr>\n",
       "\t<tr><td>Catalyst Onboarding</td><td>25</td><td>5</td><td>15</td></tr>\n",
       "\t<tr><td>Catalyst Onboarding</td><td>28</td><td>2</td><td> 3</td></tr>\n",
       "\t<tr><td>Catalyst Onboarding</td><td>31</td><td>9</td><td>54</td></tr>\n",
       "\t<tr><td>Catalyst Onboarding</td><td>35</td><td>5</td><td> 6</td></tr>\n",
       "\t<tr><td>Catalyst Onboarding</td><td>43</td><td>7</td><td>57</td></tr>\n",
       "</tbody>\n",
       "</table>\n"
      ],
      "text/latex": [
       "A data.table: 10 x 4\n",
       "\\begin{tabular}{llll}\n",
       " Challenge & CA ID & Number of Rank Changes & Assessments\\\\\n",
       " <chr> & <int> & <int> & <int>\\\\\n",
       "\\hline\n",
       "\t Catalyst Onboarding &  2 & 2 &  2\\\\\n",
       "\t Catalyst Onboarding & 11 & 9 & 57\\\\\n",
       "\t Catalyst Onboarding & 13 & 3 &  9\\\\\n",
       "\t Catalyst Onboarding & 20 & 2 & 15\\\\\n",
       "\t Catalyst Onboarding & 22 & 5 &  6\\\\\n",
       "\t Catalyst Onboarding & 25 & 5 & 15\\\\\n",
       "\t Catalyst Onboarding & 28 & 2 &  3\\\\\n",
       "\t Catalyst Onboarding & 31 & 9 & 54\\\\\n",
       "\t Catalyst Onboarding & 35 & 5 &  6\\\\\n",
       "\t Catalyst Onboarding & 43 & 7 & 57\\\\\n",
       "\\end{tabular}\n"
      ],
      "text/markdown": [
       "\n",
       "A data.table: 10 x 4\n",
       "\n",
       "| Challenge &lt;chr&gt; | CA ID &lt;int&gt; | Number of Rank Changes &lt;int&gt; | Assessments &lt;int&gt; |\n",
       "|---|---|---|---|\n",
       "| Catalyst Onboarding |  2 | 2 |  2 |\n",
       "| Catalyst Onboarding | 11 | 9 | 57 |\n",
       "| Catalyst Onboarding | 13 | 3 |  9 |\n",
       "| Catalyst Onboarding | 20 | 2 | 15 |\n",
       "| Catalyst Onboarding | 22 | 5 |  6 |\n",
       "| Catalyst Onboarding | 25 | 5 | 15 |\n",
       "| Catalyst Onboarding | 28 | 2 |  3 |\n",
       "| Catalyst Onboarding | 31 | 9 | 54 |\n",
       "| Catalyst Onboarding | 35 | 5 |  6 |\n",
       "| Catalyst Onboarding | 43 | 7 | 57 |\n",
       "\n"
      ],
      "text/plain": [
       "   Challenge           CA ID Number of Rank Changes Assessments\n",
       "1  Catalyst Onboarding  2    2                       2         \n",
       "2  Catalyst Onboarding 11    9                      57         \n",
       "3  Catalyst Onboarding 13    3                       9         \n",
       "4  Catalyst Onboarding 20    2                      15         \n",
       "5  Catalyst Onboarding 22    5                       6         \n",
       "6  Catalyst Onboarding 25    5                      15         \n",
       "7  Catalyst Onboarding 28    2                       3         \n",
       "8  Catalyst Onboarding 31    9                      54         \n",
       "9  Catalyst Onboarding 35    5                       6         \n",
       "10 Catalyst Onboarding 43    7                      57         "
      ]
     },
     "metadata": {},
     "output_type": "display_data"
    }
   ],
   "source": [
    "f5.perturbation <- NULL\n",
    "for (caId in unique(f5$`CA ID`))\n",
    "    f5.perturbation <- rbind(f5.perturbation, changesRanks(caId))\n",
    "f5.perturbation <- merge(\n",
    "    f5.perturbation,\n",
    "    f5[, .(Assessments = .N), by = .(`Challenge`, `CA ID`)],\n",
    "    by = c(\"Challenge\", \"CA ID\")\n",
    ")\n",
    "f5.perturbation[1:10]"
   ]
  },
  {
   "cell_type": "markdown",
   "metadata": {},
   "source": [
    "#### The plot below shows that very active CAs do have widespread influence."
   ]
  },
  {
   "cell_type": "code",
   "execution_count": 20,
   "metadata": {},
   "outputs": [
    {
     "data": {},
     "metadata": {},
     "output_type": "display_data"
    },
    {
     "data": {
      "image/png": "[encoded data removed]",
      "text/plain": [
       "plot without title"
      ]
     },
     "metadata": {},
     "output_type": "display_data"
    }
   ],
   "source": [
    "ggplot(\n",
    "    f5.perturbation[, .(\n",
    "        `Number of Assessments` = sum(`Assessments`),\n",
    "        `Number of Rank Changes` = sum(`Number of Rank Changes`)\n",
    "    ), by = .(`CA ID`)],\n",
    "    aes(x = `Number of Assessments`, y = `Number of Rank Changes`)\n",
    ") +\n",
    "geom_point() +\n",
    "scale_x_log10() +\n",
    "ggtitle(\"How Many Proposal Ranks Change if a CA's Assessments are Eliminated\")"
   ]
  },
  {
   "cell_type": "markdown",
   "metadata": {},
   "source": [
    "#### The plot below shows that on a *per assessment* basis, the very active CAs are not more influential than other CAs. In contrast, CAs who only assess a few proposals do affect ranking on a *per assessment* basis."
   ]
  },
  {
   "cell_type": "code",
   "execution_count": 21,
   "metadata": {},
   "outputs": [
    {
     "data": {},
     "metadata": {},
     "output_type": "display_data"
    },
    {
     "data": {
      "image/png": "[encoded data removed]",
      "text/plain": [
       "plot without title"
      ]
     },
     "metadata": {},
     "output_type": "display_data"
    }
   ],
   "source": [
    "ggplot(\n",
    "    f5.perturbation[, .(\n",
    "        `Number of Assessments` = sum(`Assessments`),\n",
    "        `Number of Rank Changes per Assessment` = sum(`Number of Rank Changes`) / sum(`Assessments`)\n",
    "    ), by = .(`CA ID`)][order(- `Number of Rank Changes per Assessment`)],\n",
    "    aes(x = `Number of Assessments`, y = `Number of Rank Changes per Assessment`)\n",
    ") +\n",
    "    geom_point() +\n",
    "    scale_x_log10() +\n",
    "ggtitle(\"How Many Proposal Ranks Change if a CA's Assessments are Eliminated\")"
   ]
  },
  {
   "cell_type": "markdown",
   "metadata": {},
   "source": [
    "## Tentative conclusions."
   ]
  },
  {
   "cell_type": "markdown",
   "metadata": {},
   "source": [
    "1.  There is no evidence of that anonymous CAs are scoring one proposal high and several other proposals low.\n",
    "    *   There are 10 cases where a CA only assesses one proposal and gives it three 5-star ratings.\n",
    "    *   There are about 5 cases where a CA scored one proposal high and one or two low, but this could be a result of the CA having assessed just a couple of proposals.\n",
    "2.  There is no CA so influential that eliminating their scores would alter the list of the most highly scored proposals in each challeng area.\n",
    "    *   In fact, there is no CA so influential that eliminating their scores would alter the set of nine highest scored proposals in each challenge area.\n",
    "    *   However, there are quite a few CAs where eliminating the CA would affect the set of top *ten* highest scored proposals in challenge areas.\n",
    "3.  CAs that score many proposals do substantially affect the ranking of all of the proposals in each challenge, but *per assessment* they do not substantially affect the ranking.\n",
    "    *   This means that very active CAs have widespread influence overall, but not on a *per assessment* basis, where they are actually less influential than less active CAs.\n",
    "    *   Some CAs that assess just a few proposals are more influential on a *per assessment* basis."
   ]
  }
 ],
 "metadata": {
  "kernelspec": {
   "display_name": "R",
   "language": "R",
   "name": "ir"
  },
  "language_info": {
   "codemirror_mode": "r",
   "file_extension": ".r",
   "mimetype": "text/x-r-source",
   "name": "R",
   "pygments_lexer": "r",
   "version": "3.6.2"
  }
 },
 "nbformat": 4,
 "nbformat_minor": 4
}
